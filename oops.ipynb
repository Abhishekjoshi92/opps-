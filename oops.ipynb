{
  "nbformat": 4,
  "nbformat_minor": 0,
  "metadata": {
    "colab": {
      "provenance": []
    },
    "kernelspec": {
      "name": "python3",
      "display_name": "Python 3"
    },
    "language_info": {
      "name": "python"
    }
  },
  "cells": [
    {
      "cell_type": "markdown",
      "source": [
        "1. What is Object-Oriented Programming (OOP)?\n",
        "** Answer:--** Object-Oriented Programming (OOP) is a programming paradigm that structures a\n",
        "program using classes and objects. It emphasizes concepts such as encapsulation, inheritance,\n",
        "abstraction, and polymorphism. OOP makes code more modular, reusable, and easier to\n",
        "maintain.\n",
        "2. What is a class in OOP?\n",
        "**Answer**:-- A class is a blueprint or template for creating objects. It defines the attributes\n",
        "(variables) and methods (functions) that the objects created from the class will have.\n",
        "3. What is an object in OOP?\n",
        "**Answer**:-- An object is an instance of a class. It represents a real-world entity with specific data\n",
        "(attributes) and behaviors (methods). Multiple objects can be created from a single class.\n",
        "4. What is the difference between abstraction and encapsulation?\n",
        "**Answer**:-- Abstraction is the concept of hiding complex implementation details and showing only\n",
        "the essential features to the user.\n",
        "Encapsulation is the technique of bundling data and methods that operate on the data into a\n",
        "single unit (class), and restricting access to some components using access modifiers like\n",
        "private.\n",
        "5. What are dunder methods in Python?\n",
        "**Answer**:-- Dunder methods (short for double underscore) are special methods that begin and\n",
        "end with double underscores, like init, str, add. They allow Python objects to behave like built-in\n",
        "types and interact with operators and functions.\n",
        "6. Explain the concept of inheritance in OOP.\n",
        "**Answer**:-- Inheritance is an OOP feature where a child class inherits properties and behaviors\n",
        "from a parent class. It promotes code reuse and allows a subclass to extend or modify the\n",
        "functionalities of the base class.\n",
        "7. What is polymorphism in OOP?\n",
        "**Answer**:-- Polymorphism means the ability to take many forms. It allows the same method name\n",
        "to have different implementations depending on the object that is calling it, enabling flexible and\n",
        "reusable code.\n",
        "8. How is encapsulation achieved in Python?\n",
        "**Answer**:-- Encapsulation in Python is achieved using private variables (prefixing with __) and\n",
        "creating getter and setter methods. This protects the internal state of an object and restricts\n",
        "direct access from outside the class.\n",
        "9. What is a constructor in Python?\n",
        "**Answer**:-- A constructor is a special method named init that is automatically called when a new\n",
        "object is created. It is used to initialize the object's attributes.\n",
        "10. What are class and static methods in Python?\n",
        "**Answer**:-- Class methods are methods that take cls as the first parameter and are defined using\n",
        "the @classmethod decorator. They can access and modify class-level data.\n",
        "Static methods do not take self or cls as parameters. They are defined using @staticmethod and\n",
        "behave like regular functions inside a class.\n",
        "11. What is method overloading in Python?\n",
        "**Answer**:-- Python does not support traditional method overloading (same method name with\n",
        "different parameters). However, similar behavior can be achieved using default arguments, *args,\n",
        "or **kwargs.\n",
        "12. What is method overriding in OOP?\n",
        "**Answer**:-- Method overriding occurs when a child class provides a new implementation for a\n",
        "method that is already defined in the parent class. It allows customizing or extending behavior.\n",
        "13. What is a property decorator in Python?\n",
        "**Answer**:-- The @property decorator in Python is used to define getter methods that can be\n",
        "accessed like attributes. It allows for controlled access to private variables.\n",
        "14. Why is polymorphism important in OOP?\n",
        "**Answer**:-- Polymorphism enables functions and methods to work with objects of different classes\n",
        "that implement the same method name. It leads to flexibility, scalability, and extensibility in code.\n",
        "15. What is an abstract class in Python?\n",
        "**Answer**:-- An abstract class is a class that cannot be instantiated directly. It is used to define a\n",
        "base class with abstract methods (declared but not implemented). You must use the abc module\n",
        "and @abstractmethod decorator.\n",
        "16. What are the advantages of OOP?\n",
        "**Answer**:--\n",
        "Modularity: Code is organized into classes.\n",
        "Reusability: Inheritance promotes reuse.\n",
        "Maintainability: Code is easier to debug and maintain.\n",
        "Scalability: Suitable for large projects.\n",
        "17. What is the difference between a class variable and an instance variable?\n",
        "**Answer**:--\n",
        "Class variable: Shared by all instances of the class.\n",
        "Instance variable: Unique to each object and defined inside the init method.\n",
        "18. What is multiple inheritance in Python?\n",
        "**Answer**:-- Multiple inheritance allows a class to inherit from more than one parent class, gaining\n",
        "methods and properties from all. It can introduce complexity due to method resolution order\n",
        "(MRO).\n",
        "19. Explain the purpose of __str__ and __repr__ methods in Python.\n",
        "**Answer**:--\n",
        "str: Returns a readable string representation for users (used in print()).\n",
        "repr: Returns a developer-friendly representation, usually used for debugging.\n",
        "20. What is the significance of the super() function in Python?\n",
        "**Answer**:-- super() is used to call methods from the parent class. It’s commonly used to extend\n",
        "the behavior of inherited methods, especially constructors.\n",
        "21. What is the significance of the __del__ method in Python?\n",
        "**Answer**:-- The del method is a destructor that is called when an object is about to be destroyed.\n",
        "It is used to release resources or perform clean-up tasks.\n",
        "22. What is the difference between @staticmethod and @classmethod in Python?\n",
        "**Answer**:--\n",
        "@staticmethod: No access to self or cls. Acts like a regular function inside a class.\n",
        "@classmethod: Receives cls and can modify class-level data.\n",
        "23. How does polymorphism work in Python with inheritance?\n",
        "**Answer**:-- Polymorphism works by overriding methods in child classes. A function can call the\n",
        "same method on different objects, and the object decides which implementation to execute at\n",
        "runtime.\n",
        "24. What is method chaining in Python OOP?\n",
        "**Answer**:-- Method chaining is when multiple methods are called in a single line, and each\n",
        "method returns self. Example:\n",
        "python Copy code obj.method1().method2().method3()\n",
        "25. What is the purpose of the __call__ method in Python?\n",
        "**Answer**:-- The call method allows an object to be called like a function. It enables objects to\n",
        "have function-like behavior. Example:\n",
        "python Copy code class MyClass: def call(self): print(\"Called like a function\")\n",
        ""
      ],
      "metadata": {
        "id": "fgifuEzMebuD"
      }
    },
    {
      "cell_type": "code",
      "execution_count": null,
      "metadata": {
        "id": "38rduubegFxk"
      },
      "outputs": [],
      "source": [
        "\n",
        "PRACTICAL QUESTION\n",
        "1. Create a parent class Animal with a method speak() that prints a generic message.\n",
        "Create a child class Dog that overrides the speak() method to print \"Bark!\".\n"
      ]
    },
    {
      "cell_type": "code",
      "source": [
        "class Animal:\n",
        "    def speak(self):\n",
        "        print(\"Animal makes a sound.\")\n",
        "\n",
        "class Dog(Animal):\n",
        "    def speak(self):\n",
        "        print(\"Bark!\")\n",
        "\n",
        "dog = Dog()\n",
        "dog.speak()"
      ],
      "metadata": {
        "colab": {
          "base_uri": "https://localhost:8080/"
        },
        "id": "6HM4boH2gpr1",
        "outputId": "9b5decad-add8-41bf-bdc7-98d0abb86de1"
      },
      "execution_count": 1,
      "outputs": [
        {
          "output_type": "stream",
          "name": "stdout",
          "text": [
            "Bark!\n"
          ]
        }
      ]
    },
    {
      "cell_type": "code",
      "source": [
        "2. Write a program to create an abstract class Shape with a method area(). Derive classes\n",
        "Circle and Rectangle from it and implement the area() method in both.\n"
      ],
      "metadata": {
        "id": "46DpGQyigtWb"
      },
      "execution_count": null,
      "outputs": []
    },
    {
      "cell_type": "code",
      "source": [
        "from abc import ABC, abstractmethod\n",
        "import math\n",
        "\n",
        "class Shape(ABC):\n",
        "    @abstractmethod\n",
        "    def area(self):\n",
        "        pass\n",
        "\n",
        "class Circle(Shape):\n",
        "    def __init__(self, radius):\n",
        "        self.radius = radius\n",
        "\n",
        "    def area(self):\n",
        "        return math.pi * self.radius ** 2\n",
        "\n",
        "class Rectangle(Shape):\n",
        "    def __init__(self, width, height):\n",
        "        self.width = width\n",
        "        self.height = height\n",
        "\n",
        "    def area(self):\n",
        "        return self.width * self.height\n",
        "\n",
        "c = Circle(5)\n",
        "r = Rectangle(4, 6)\n",
        "print(c.area())\n",
        "print(r.area())"
      ],
      "metadata": {
        "colab": {
          "base_uri": "https://localhost:8080/"
        },
        "id": "Ir9qZzZKg4-6",
        "outputId": "bc68be7f-6e24-4ac5-ea4f-576de1a1203f"
      },
      "execution_count": 2,
      "outputs": [
        {
          "output_type": "stream",
          "name": "stdout",
          "text": [
            "78.53981633974483\n",
            "24\n"
          ]
        }
      ]
    },
    {
      "cell_type": "code",
      "source": [
        "3. Implement a multi-level inheritance scenario where a class Vehicle has an attribute type.\n",
        "Derive a class Car and further derive a class ElectricCar that adds a battery attribute."
      ],
      "metadata": {
        "id": "AXdqAab3hPpG"
      },
      "execution_count": null,
      "outputs": []
    },
    {
      "cell_type": "code",
      "source": [
        "class Vehicle:\n",
        "    def __init__(self, type):\n",
        "        self.type = type\n",
        "\n",
        "class Car(Vehicle):\n",
        "    def __init__(self, type, brand):\n",
        "        super().__init__(type)\n",
        "        self.brand = brand\n",
        "\n",
        "class ElectricCar(Car):\n",
        "    def __init__(self, type, brand, battery):\n",
        "        super().__init__(type, brand)\n",
        "        self.battery = battery\n",
        "\n",
        "ecar = ElectricCar(\"Four-wheeler\", \"Tesla\", \"100 kWh\")\n",
        "print(ecar.type, ecar.brand, ecar.battery)"
      ],
      "metadata": {
        "colab": {
          "base_uri": "https://localhost:8080/"
        },
        "id": "Vo88_jIrhali",
        "outputId": "6de63e7b-a130-44c7-b66f-f3eb5abe7572"
      },
      "execution_count": 3,
      "outputs": [
        {
          "output_type": "stream",
          "name": "stdout",
          "text": [
            "Four-wheeler Tesla 100 kWh\n"
          ]
        }
      ]
    },
    {
      "cell_type": "code",
      "source": [
        "4. Demonstrate polymorphism by creating a base class Bird with a method fly(). Create two\n",
        "derived classes Sparrow and Penguin that override the fly() method."
      ],
      "metadata": {
        "id": "bw55EzV-hbWx"
      },
      "execution_count": null,
      "outputs": []
    },
    {
      "cell_type": "code",
      "source": [
        "class Bird:\n",
        "    def fly(self):\n",
        "        print(\"Bird is flying\")\n",
        "\n",
        "class Sparrow(Bird):\n",
        "    def fly(self):\n",
        "        print(\"Sparrow flies high\")\n",
        "\n",
        "class Penguin(Bird):\n",
        "    def fly(self):\n",
        "        print(\"Penguins can't fly\")\n",
        "\n",
        "birds = [Sparrow(), Penguin()]\n",
        "for bird in birds:\n",
        "    bird.fly()"
      ],
      "metadata": {
        "colab": {
          "base_uri": "https://localhost:8080/"
        },
        "id": "qkaihEkUhbUB",
        "outputId": "e4ad1d4e-0c70-4fab-eec5-ff9f1570dac1"
      },
      "execution_count": 4,
      "outputs": [
        {
          "output_type": "stream",
          "name": "stdout",
          "text": [
            "Sparrow flies high\n",
            "Penguins can't fly\n"
          ]
        }
      ]
    },
    {
      "cell_type": "code",
      "source": [
        "5. Write a program to demonstrate encapsulation by creating a class BankAccount with\n",
        "private attributes balance and methods to deposit, withdraw, and check balance."
      ],
      "metadata": {
        "id": "h0QcPIX3hbJb"
      },
      "execution_count": null,
      "outputs": []
    },
    {
      "cell_type": "code",
      "source": [
        "class BankAccount:\n",
        "    def __init__(self, balance=0):\n",
        "        self.__balance = balance\n",
        "\n",
        "    def deposit(self, amount):\n",
        "        self.__balance += amount\n",
        "\n",
        "    def withdraw(self, amount):\n",
        "        if amount <= self.__balance:\n",
        "            self.__balance -= amount\n",
        "        else:\n",
        "            print(\"Insufficient balance\")\n",
        "\n",
        "    def get_balance(self):\n",
        "        return self.__balance\n",
        "\n",
        "acc = BankAccount()\n",
        "acc.deposit(500)\n",
        "acc.withdraw(200)\n",
        "print(acc.get_balance())"
      ],
      "metadata": {
        "colab": {
          "base_uri": "https://localhost:8080/"
        },
        "id": "aD6KO6GNhbFq",
        "outputId": "55477b66-5dde-450e-d260-dd80261cabc5"
      },
      "execution_count": 5,
      "outputs": [
        {
          "output_type": "stream",
          "name": "stdout",
          "text": [
            "300\n"
          ]
        }
      ]
    },
    {
      "cell_type": "code",
      "source": [
        "6. Demonstrate runtime polymorphism using a method play() in a base class Instrument.\n",
        "Derive classes Guitar and Piano that implement their own version of play()."
      ],
      "metadata": {
        "id": "V5J0N2FpiKNJ"
      },
      "execution_count": null,
      "outputs": []
    },
    {
      "cell_type": "code",
      "source": [
        "class Instrument:\n",
        "    def play(self):\n",
        "        print(\"Playing an instrument\")\n",
        "\n",
        "class Guitar(Instrument):\n",
        "    def play(self):\n",
        "        print(\"Playing the guitar\")\n",
        "\n",
        "class Piano(Instrument):\n",
        "    def play(self):\n",
        "        print(\"Playing the piano\")\n",
        "\n",
        "for inst in [Guitar(), Piano()]:\n",
        "    inst.play()"
      ],
      "metadata": {
        "colab": {
          "base_uri": "https://localhost:8080/"
        },
        "id": "o0HighbsiL45",
        "outputId": "86fe6da5-f135-4d9b-8dd5-c8aa0fdf9475"
      },
      "execution_count": 6,
      "outputs": [
        {
          "output_type": "stream",
          "name": "stdout",
          "text": [
            "Playing the guitar\n",
            "Playing the piano\n"
          ]
        }
      ]
    },
    {
      "cell_type": "code",
      "source": [
        "7. Create a class MathOperations with a class method add_numbers() to add two numbers\n",
        "and a static method subtract_numbers() to subtract two numbers."
      ],
      "metadata": {
        "id": "frt7BX3TiL0J"
      },
      "execution_count": null,
      "outputs": []
    },
    {
      "cell_type": "code",
      "source": [
        "class MathOperations:\n",
        "    @classmethod\n",
        "    def add_numbers(cls, a, b):\n",
        "        return a + b\n",
        "\n",
        "    @staticmethod\n",
        "    def subtract_numbers(a, b):\n",
        "        return a - b\n",
        "\n",
        "print(MathOperations.add_numbers(3, 4))\n",
        "print(MathOperations.subtract_numbers(10, 5))"
      ],
      "metadata": {
        "colab": {
          "base_uri": "https://localhost:8080/"
        },
        "id": "JnjUiVj-iLtT",
        "outputId": "e2e96d77-f58f-4836-ac96-556d1ffac8d1"
      },
      "execution_count": 7,
      "outputs": [
        {
          "output_type": "stream",
          "name": "stdout",
          "text": [
            "7\n",
            "5\n"
          ]
        }
      ]
    },
    {
      "cell_type": "code",
      "source": [
        "8. Implement a class Person with a class method to count the total number of persons\n",
        "created."
      ],
      "metadata": {
        "id": "nTYbRCqyiLqy"
      },
      "execution_count": null,
      "outputs": []
    },
    {
      "cell_type": "code",
      "source": [
        "class Person:\n",
        "    count = 0\n",
        "\n",
        "    def __init__(self):\n",
        "        Person.count += 1\n",
        "\n",
        "    @classmethod\n",
        "    def get_count(cls):\n",
        "        return cls.count\n",
        "\n",
        "p1 = Person()\n",
        "p2 = Person()\n",
        "print(Person.get_count())"
      ],
      "metadata": {
        "colab": {
          "base_uri": "https://localhost:8080/"
        },
        "id": "aHbpGKwciLnz",
        "outputId": "fe4a3d9d-ac8a-4f7e-db65-e3629d880983"
      },
      "execution_count": 8,
      "outputs": [
        {
          "output_type": "stream",
          "name": "stdout",
          "text": [
            "2\n"
          ]
        }
      ]
    },
    {
      "cell_type": "code",
      "source": [
        "9. Write a class Fraction with attributes numerator and denominator. Override the str\n",
        "method to display the fraction as \"numerator/denominator\"."
      ],
      "metadata": {
        "id": "1WJX6ed2ir8T"
      },
      "execution_count": null,
      "outputs": []
    },
    {
      "cell_type": "code",
      "source": [
        "class Fraction:\n",
        "    def __init__(self, numerator, denominator):\n",
        "        self.numerator = numerator\n",
        "        self.denominator = denominator\n",
        "\n",
        "    def __str__(self):\n",
        "        return f\"{self.numerator}/{self.denominator}\"\n",
        "\n",
        "f = Fraction(3, 4)\n",
        "print(f)"
      ],
      "metadata": {
        "colab": {
          "base_uri": "https://localhost:8080/"
        },
        "id": "VVbwXNXyVw5D",
        "outputId": "1cb853fb-6d1b-4f40-e3a2-b1bef6370823"
      },
      "execution_count": 1,
      "outputs": [
        {
          "output_type": "stream",
          "name": "stdout",
          "text": [
            "3/4\n"
          ]
        }
      ]
    },
    {
      "cell_type": "code",
      "source": [
        "10. Demonstrate operator overloading by creating a class Vector and overriding the add\n",
        "method to add two vectors."
      ],
      "metadata": {
        "id": "xnQp_m0XVw21"
      },
      "execution_count": null,
      "outputs": []
    },
    {
      "cell_type": "code",
      "source": [
        "class Vector:\n",
        "    def __init__(self, x, y):\n",
        "        self.x = x\n",
        "        self.y = y\n",
        "\n",
        "    def __add__(self, other):\n",
        "        return Vector(self.x + other.x, self.y + other.y)\n",
        "\n",
        "    def __str__(self):\n",
        "        return f\"Vector({self.x}, {self.y})\"\n",
        "\n",
        "v1 = Vector(2, 3)\n",
        "v2 = Vector(4, 1)\n",
        "print(v1 + v2)"
      ],
      "metadata": {
        "colab": {
          "base_uri": "https://localhost:8080/"
        },
        "id": "4vVrt37yVwzx",
        "outputId": "55691613-b5c7-48cd-8aaa-07e38211a7e4"
      },
      "execution_count": 2,
      "outputs": [
        {
          "output_type": "stream",
          "name": "stdout",
          "text": [
            "Vector(6, 4)\n"
          ]
        }
      ]
    },
    {
      "cell_type": "code",
      "source": [
        "11. Create a class Person with attributes name and age. Add a method greet() that prints\n",
        "\"Hello, my name is {name} and I am {age} years old.\""
      ],
      "metadata": {
        "id": "-6G7n-vUVwp6"
      },
      "execution_count": null,
      "outputs": []
    },
    {
      "cell_type": "code",
      "source": [
        "class Person:\n",
        "    def __init__(self, name, age):\n",
        "    self.name = name\n",
        "   self. age = age\n",
        "  def greet(self):\n",
        "print(f\"Hello, my name is {self.name} and I am {self.age} years old.\")\n",
        "p = Person(\"Alice\", 25)\n",
        "p.greet()"
      ],
      "metadata": {
        "colab": {
          "base_uri": "https://localhost:8080/",
          "height": 106
        },
        "id": "NE3chtdvWe4v",
        "outputId": "ff06ad3e-44cc-4218-d804-f6a543c01ec9"
      },
      "execution_count": 28,
      "outputs": [
        {
          "output_type": "error",
          "ename": "IndentationError",
          "evalue": "unindent does not match any outer indentation level (<tokenize>, line 4)",
          "traceback": [
            "\u001b[0;36m  File \u001b[0;32m\"<tokenize>\"\u001b[0;36m, line \u001b[0;32m4\u001b[0m\n\u001b[0;31m    self. age = age\u001b[0m\n\u001b[0m    ^\u001b[0m\n\u001b[0;31mIndentationError\u001b[0m\u001b[0;31m:\u001b[0m unindent does not match any outer indentation level\n"
          ]
        }
      ]
    },
    {
      "cell_type": "code",
      "source": [
        "12. Implement a class Student with attributes name and grades. Create a method\n",
        "average_grade() to compute the average of the grades.\n"
      ],
      "metadata": {
        "id": "-fTElyL0We0Q"
      },
      "execution_count": null,
      "outputs": []
    },
    {
      "cell_type": "code",
      "source": [
        "class Student:\n",
        "    def __init__(self, name, grades):\n",
        "        self.name = name\n",
        "        self.grades = grades\n",
        "\n",
        "    def average_grade(self):\n",
        "        return sum(self.grades) / len(self.grades)\n",
        "\n",
        "s = Student(\"Tom\", [80, 90, 70])\n",
        "print(s.average_grade())"
      ],
      "metadata": {
        "colab": {
          "base_uri": "https://localhost:8080/"
        },
        "id": "8bct2KI1WexY",
        "outputId": "db140553-ee1f-402e-ad1f-675f1bd1e892"
      },
      "execution_count": 10,
      "outputs": [
        {
          "output_type": "stream",
          "name": "stdout",
          "text": [
            "80.0\n"
          ]
        }
      ]
    },
    {
      "cell_type": "code",
      "source": [
        "13. Create a class Rectangle with methods set_dimensions() to set the dimensions and\n",
        "area() to calculate the area."
      ],
      "metadata": {
        "id": "mfAQIpdBXgcq"
      },
      "execution_count": null,
      "outputs": []
    },
    {
      "cell_type": "code",
      "source": [
        "class Rectangle:\n",
        "    def set_dimensions(self, width, height):\n",
        "        self.width = width\n",
        "        self.height = height\n",
        "\n",
        "    def area(self):\n",
        "        return self.width * self.height\n",
        "\n",
        "r = Rectangle()\n",
        "r.set_dimensions(4, 5)\n",
        "print(r.area())"
      ],
      "metadata": {
        "colab": {
          "base_uri": "https://localhost:8080/"
        },
        "id": "_qCvlnIeXknY",
        "outputId": "d57ccc26-bba8-490e-8534-fb23cfc9325e"
      },
      "execution_count": 11,
      "outputs": [
        {
          "output_type": "stream",
          "name": "stdout",
          "text": [
            "20\n"
          ]
        }
      ]
    },
    {
      "cell_type": "code",
      "source": [
        "14. Create a class Employee with a method calculate_salary() that computes the salary\n",
        "based on hours worked and hourly rate. Create a derived class Manager that adds a\n",
        "bonus to the salary."
      ],
      "metadata": {
        "id": "yNcOJe3IXkko"
      },
      "execution_count": null,
      "outputs": []
    },
    {
      "cell_type": "code",
      "source": [
        "class Employee:\n",
        "    def __init__(self, hours, rate):\n",
        "        self.hours = hours\n",
        "        self.rate = rate\n",
        "\n",
        "    def calculate_salary(self):\n",
        "        return self.hours * self.rate\n",
        "\n",
        "class Manager(Employee):\n",
        "    def __init__(self, hours, rate, bonus):\n",
        "        super().__init__(hours, rate)\n",
        "        self.bonus = bonus\n",
        "\n",
        "    def calculate_salary(self):\n",
        "        return super().calculate_salary() + self.bonus\n",
        "\n",
        "e = Manager(40, 20, 500)\n",
        "print(e.calculate_salary())"
      ],
      "metadata": {
        "colab": {
          "base_uri": "https://localhost:8080/"
        },
        "id": "tTg_vmmGXwPs",
        "outputId": "e254c2e0-636a-4cc6-995d-7faa76ac54e4"
      },
      "execution_count": 12,
      "outputs": [
        {
          "output_type": "stream",
          "name": "stdout",
          "text": [
            "1300\n"
          ]
        }
      ]
    },
    {
      "cell_type": "code",
      "source": [
        "15. Create a class Product with attributes name, price, and quantity. Implement a method\n",
        "total_price() that calculates the total price of the product."
      ],
      "metadata": {
        "id": "B4GZUwy5XwNX"
      },
      "execution_count": null,
      "outputs": []
    },
    {
      "cell_type": "code",
      "source": [
        "class Product:\n",
        "    def __init__(self, name, price, quantity):\n",
        "        self.name = name\n",
        "        self.price = price\n",
        "        self.quantity = quantity\n",
        "\n",
        "    def total_price(self):\n",
        "        return self.price * self.quantity\n",
        "\n",
        "p = Product(\"Laptop\", 50000, 2)\n",
        "print(f\"Total price: ₹{p.total_price()}\")"
      ],
      "metadata": {
        "colab": {
          "base_uri": "https://localhost:8080/"
        },
        "id": "cleH7pyvXwLI",
        "outputId": "4ea2454a-4864-4fe5-cd3a-0955ae18553c"
      },
      "execution_count": 13,
      "outputs": [
        {
          "output_type": "stream",
          "name": "stdout",
          "text": [
            "Total price: ₹100000\n"
          ]
        }
      ]
    },
    {
      "cell_type": "code",
      "source": [
        "16. Create a class Animal with an abstract method sound(). Create two derived classes Cow\n",
        "and Sheep that implement the sound() method."
      ],
      "metadata": {
        "id": "Od9ShKpuXwIw"
      },
      "execution_count": null,
      "outputs": []
    },
    {
      "cell_type": "code",
      "source": [
        "\n",
        "from abc import ABC, abstractmethod\n",
        "\n",
        "class Animal(ABC):\n",
        "    @abstractmethod\n",
        "    def sound(self):\n",
        "        pass\n",
        "\n",
        "class Cow(Animal):\n",
        "    def sound(self):\n",
        "        print(\"Moo\")\n",
        "\n",
        "class Sheep(Animal):\n",
        "    def sound(self):\n",
        "        print(\"Baa\")\n",
        "\n",
        "c = Cow()\n",
        "s = Sheep()\n",
        "c.sound()\n",
        "s.sound()\n"
      ],
      "metadata": {
        "colab": {
          "base_uri": "https://localhost:8080/"
        },
        "id": "rFD1QR5oYFGE",
        "outputId": "e0b7ed15-4ef5-47aa-a139-b0b1c168f3c3"
      },
      "execution_count": 14,
      "outputs": [
        {
          "output_type": "stream",
          "name": "stdout",
          "text": [
            "Moo\n",
            "Baa\n"
          ]
        }
      ]
    },
    {
      "cell_type": "code",
      "source": [
        "17. Create a class Book with attributes title, author, and year_published. Add a method\n",
        "get_book_info() that returns a formatted string with the book's details."
      ],
      "metadata": {
        "id": "zlwETx3BYFDp"
      },
      "execution_count": null,
      "outputs": []
    },
    {
      "cell_type": "code",
      "source": [
        "class Book:\n",
        "    def __init__(self, author, title):\n",
        "        self.author = author\n",
        "        self.title = title\n",
        "\n",
        "\n",
        "    def __str__(self):\n",
        "        return f'{self.author} {self.title}'\n",
        "\n",
        "book_one = Book('John Green', 'PaperTowns')\n",
        "print(str(book_one))"
      ],
      "metadata": {
        "colab": {
          "base_uri": "https://localhost:8080/"
        },
        "id": "n-XYDzZ4Ygm6",
        "outputId": "8aba9228-f757-4c20-fda2-e461cb8104d8"
      },
      "execution_count": 17,
      "outputs": [
        {
          "output_type": "stream",
          "name": "stdout",
          "text": [
            "John Green PaperTowns\n"
          ]
        }
      ]
    },
    {
      "cell_type": "code",
      "source": [
        "18. Create a class House with attributes address and price. Create a derived class Mansion\n",
        "that adds an attribute number_of_rooms."
      ],
      "metadata": {
        "id": "q_0PmcZ1YY0d"
      },
      "execution_count": null,
      "outputs": []
    },
    {
      "cell_type": "code",
      "source": [
        "class House:\n",
        "    def __init__(self, address, price):\n",
        "        self.address = address\n",
        "        self.price = price\n",
        "\n",
        "class Mansion(House):\n",
        "    def __init__(self, address, price, number_of_rooms):\n",
        "        super().__init__(address, price)\n",
        "        self.number_of_rooms = number_of_rooms\n",
        "\n",
        "    def details(self):\n",
        "        return f\"Mansion at'{self.address}'costs ₹'{self.price}'and has {self.number_of_rooms} rooms.\"\n",
        "\n",
        "m = Mansion(\"Beverly Hills\", 50000000, 10)\n",
        "print(m.details())"
      ],
      "metadata": {
        "colab": {
          "base_uri": "https://localhost:8080/"
        },
        "id": "qQwzkYI7ZRdo",
        "outputId": "95b755ba-1eec-4113-a172-e0b321aef2c2"
      },
      "execution_count": 22,
      "outputs": [
        {
          "output_type": "stream",
          "name": "stdout",
          "text": [
            "Mansion at'Beverly Hills'costs ₹'50000000'and has 10 rooms.\n"
          ]
        }
      ]
    },
    {
      "cell_type": "code",
      "source": [],
      "metadata": {
        "id": "ueMi7yUuZVn5"
      },
      "execution_count": null,
      "outputs": []
    }
  ]
}